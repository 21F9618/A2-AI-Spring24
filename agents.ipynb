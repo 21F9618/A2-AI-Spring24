{
 "cells": [
  {
   "cell_type": "code",
   "execution_count": null,
   "metadata": {},
   "outputs": [],
   "source": [
    "from lib.agents import *\n",
    "import numpy as np"
   ]
  },
  {
   "cell_type": "code",
   "execution_count": null,
   "metadata": {},
   "outputs": [],
   "source": [
    "class Wall(Thing):\n",
    "    pass\n",
    "\n",
    "class Goal(Thing):\n",
    "    pass\n"
   ]
  },
  {
   "cell_type": "code",
   "execution_count": null,
   "metadata": {},
   "outputs": [],
   "source": [
    "from random import choice\n",
    "\n",
    "class OurAgent(Agent):\n",
    "    location = [0,1]\n",
    "    direction = Direction(\"down\")\n",
    "    \n",
    "    def moveforward(self, loc):\n",
    "        self.location[0] += loc[0]\n",
    "        self.location[1] += loc[1]\n",
    "    \n",
    "    def turn(self, d):\n",
    "        self.direction = Direction(d)\n",
    "        \n",
    "def program(percepts):\n",
    "    global it\n",
    "    '''Returns an action based on it's percepts'''\n",
    "        \n",
    "    for p in percepts:\n",
    "        if isinstance(p, Wall):\n",
    "            print(\"Cannot move in a wall\\nImplement the algorithm again\")\n",
    "            \n",
    "    it += 1\n",
    "    return steps[it]"
   ]
  },
  {
   "cell_type": "code",
   "execution_count": null,
   "metadata": {},
   "outputs": [],
   "source": [
    "class Maze(GraphicEnvironment):\n",
    "    def percept(self, agent):\n",
    "        '''return a list of things that are in our agent's location'''\n",
    "        things = self.list_things_at(agent.location)\n",
    "        for thing in self.list_things_at(agent.location):\n",
    "            if not isinstance(thing, OurAgent):\n",
    "                things.append(thing)\n",
    "        return things\n",
    "    \n",
    "    def execute_action(self, agent, action):\n",
    "        '''changes the state of the environment based on what the agent does.'''\n",
    "        if action == 'right':\n",
    "            agent.moveforward([1,0])\n",
    "        elif action == 'left':\n",
    "            agent.moveforward([-1,0])\n",
    "        elif action == 'up':\n",
    "            agent.moveforward([0,-1])\n",
    "        elif action == 'down':\n",
    "            agent.moveforward([0,1])\n",
    "                    \n",
    "    def is_done(self):\n",
    "        things = []\n",
    "        for agent in self.agents:\n",
    "            for thing in self.list_things_at(agent.location):\n",
    "                things.append(thing)\n",
    "        for thing in things:\n",
    "            if isinstance(thing, Goal):\n",
    "                return True\n",
    "        return False\n"
   ]
  },
  {
   "cell_type": "markdown",
   "metadata": {},
   "source": [
    "Now that our park is ready for the 2D motion of our energetic dog, lets test it!"
   ]
  },
  {
   "cell_type": "code",
   "execution_count": null,
   "metadata": {},
   "outputs": [],
   "source": [
    "maze_layout = [\n",
    "    [1, 1, 1, 1, 1, 1, 1, 1, 1, 1, 1, 1, 1, 1, 1, 1, 1, 1, 1, 1],\n",
    "    [1, 3, 0, 1, 0, 0, 0, 0, 0, 1, 0, 0, 1, 0, 0, 0, 0, 0, 0, 1],\n",
    "    [1, 0, 0, 1, 0, 1, 1, 1, 0, 1, 0, 1, 1, 1, 0, 1, 1, 1, 0, 1],\n",
    "    [1, 0, 0, 1, 0, 1, 0, 1, 0, 0, 0, 0, 0, 1, 0, 0, 0, 1, 0, 1],\n",
    "    [1, 0, 0, 1, 0, 1, 1, 1, 1, 0, 1, 1, 1, 1, 1, 1, 0, 1, 0, 1],\n",
    "    [1, 0, 0, 0, 0, 0, 0, 0, 0, 0, 0, 0, 0, 0, 0, 0, 0, 0, 0, 1],\n",
    "    [1, 1, 1, 1, 1, 1, 0, 0, 1, 0, 1, 1, 1, 1, 1, 1, 1, 1, 1, 1],\n",
    "    [1, 0, 0, 0, 0, 1, 1, 1, 1, 0, 1, 1, 1, 0, 0, 0, 0, 0, 0, 1],\n",
    "    [1, 0, 1, 1, 0, 0, 0, 0, 1, 0, 0, 1, 0, 0, 1, 1, 1, 0, 0, 1],\n",
    "    [1, 0, 1, 1, 0, 1, 1, 0, 1, 0, 0, 0, 0, 1, 1, 0, 1, 1, 0, 1],\n",
    "    [1, 0, 0, 0, 0, 1, 1, 0, 1, 0, 1, 1, 0, 1, 1, 0, 0, 0, 0, 1],\n",
    "    [1, 1, 1, 1, 1, 1, 1, 0, 1, 0, 1, 1, 0, 1, 1, 1, 1, 1, 1, 1],\n",
    "    [1, 0, 0, 0, 0, 0, 1, 0, 0, 0, 0, 0, 0, 0, 0, 0, 1, 0, 0, 1],\n",
    "    [1, 1, 1, 1, 1, 0, 1, 1, 1, 1, 1, 1, 0, 1, 1, 0, 1, 1, 0, 1],\n",
    "    [1, 0, 0, 0, 1, 0, 0, 0, 0, 0, 0, 0, 0, 0, 1, 0, 0, 1, 0, 1],\n",
    "    [1, 0, 1, 0, 1, 1, 1, 1, 1, 1, 0, 1, 1, 0, 1, 1, 0, 1, 0, 1],\n",
    "    [1, 0, 0, 0, 0, 0, 0, 0, 0, 0, 0, 0, 0, 0, 0, 0, 0, 0, 0, 1],\n",
    "    [1, 1, 1, 1, 1, 1, 1, 1, 1, 1, 0, 1, 1, 1, 1, 1, 1, 1, 1, 1],\n",
    "    [1, 0, 0, 0, 0, 0, 0, 0, 0, 0, 0, 0, 0, 0, 0, 0, 0, 0, 2, 1],\n",
    "    [1, 1, 1, 1, 1, 1, 1, 1, 1, 1, 1, 1, 1, 1, 1, 1, 1, 1, 1, 1]\n",
    "]\n",
    "\n",
    "def algo(maze):\n",
    "    \"\"\"\n",
    "    implement this function using the maze from input\n",
    "    3 in the maze represents the location of the agent\n",
    "    2 represents the goal\n",
    "    1 represents the wall\n",
    "    0 represent the free space in which our agent can walk\n",
    "    return and array of moves like this e.g. [\"down\", \"right\", \"up\", \"left\", \"left\", \"down\"]\n",
    "    so that the agent will be at the goal \n",
    "    \"\"\"\n",
    "    \n",
    "    \n",
    "    return [\"down\", \"right\", \"up\", \"left\"]\n",
    "\n",
    "\n",
    "\n",
    "\n",
    "park = Maze(20, 20, color={'OurAgent': (255, 255, 0), 'Goal': (0, 128, 0), 'Wall': (165,42,42)})\n",
    "\n",
    "# Add walls to the park\n",
    "for i in range(len(maze_layout)):\n",
    "    for j in range(len(maze_layout[0])):\n",
    "        if maze_layout[i][j] == 1:\n",
    "            park.add_thing(Wall(), [i, j])\n",
    "\n",
    "# park = Maze(25,20, color={'OurAgent': (200,0,0), 'Water': (0, 200, 200), 'Food': (230, 115, 40)})\n",
    "agent = OurAgent(program)\n",
    "goal = Goal()\n",
    "park.add_thing(agent, [1,1])\n",
    "park.add_thing(goal, [18,18])\n",
    "\n",
    "it = -1\n",
    "\n",
    "steps = algo(np.transpose(maze_layout))\n",
    "park.run(len(steps))"
   ]
  }
 ],
 "metadata": {
  "kernelspec": {
   "display_name": "Python 3",
   "language": "python",
   "name": "python3"
  },
  "language_info": {
   "codemirror_mode": {
    "name": "ipython",
    "version": 3
   },
   "file_extension": ".py",
   "mimetype": "text/x-python",
   "name": "python",
   "nbconvert_exporter": "python",
   "pygments_lexer": "ipython3",
   "version": "3.11.5"
  }
 },
 "nbformat": 4,
 "nbformat_minor": 1
}
